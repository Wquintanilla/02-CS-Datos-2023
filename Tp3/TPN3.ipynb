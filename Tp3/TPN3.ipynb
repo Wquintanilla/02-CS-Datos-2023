{
 "cells": [
  {
   "attachments": {},
   "cell_type": "markdown",
   "metadata": {},
   "source": [
    "# tp3\n",
    "## Ejercicio 26\n",
    "Realizar un programa que pida cargar una fecha cualquiera, luego verificar si dicha fecha corresponde a Navidad."
   ]
  },
  {
   "cell_type": "code",
   "execution_count": 2,
   "metadata": {},
   "outputs": [
    {
     "name": "stdout",
     "output_type": "stream",
     "text": [
      "Ingrese una fecha\n",
      "ES NAVIDAD, HURRA\n"
     ]
    }
   ],
   "source": [
    "print(\"Ingrese una fecha\")\n",
    "dia=int(input(\"Ingrese el dia, en formato numerico dd\"))\n",
    "mes=int(input(\"Ingrese el MES, en formato numerico mm\"))\n",
    "anio=int(input(\"Ingrese el MES, en formato numerico aaaa\"))\n",
    "if mes==12 and dia==25:\n",
    "    print(\"ES NAVIDAD, HURRA\")\n",
    "else:\n",
    "    print(\"MALA SUERTE FALTA PARA NAVIDAD\")\n"
   ]
  },
  {
   "attachments": {},
   "cell_type": "markdown",
   "metadata": {},
   "source": [
    "## Ejercicio 27\n",
    "Se ingresan por teclado tres números, si todos los valores ingresados son menores a 10, imprimir en pantalla la leyenda \"Todos los números son menores a diez\".\n"
   ]
  },
  {
   "cell_type": "code",
   "execution_count": 4,
   "metadata": {},
   "outputs": [
    {
     "name": "stdout",
     "output_type": "stream",
     "text": [
      "hay algun numero mayor a 10\n"
     ]
    }
   ],
   "source": [
    "num1=float(input(\"Ingrese el 1er numero: \"))\n",
    "num2=float(input(\"Ingrese el 2do numero: \"))\n",
    "num3=float(input(\"Ingrese el 3er numero: \"))\n",
    "if num1<10 and num2<10 and num3<10:\n",
    "    print(\"Todos los números son menores a diez\")\n",
    "else:\n",
    "    print(\"hay algun numero mayor a 10\")"
   ]
  },
  {
   "cell_type": "markdown",
   "metadata": {},
   "source": [
    "## Ejercicio 28\n",
    "Se ingresan por teclado tres números, si al menos uno de los valores ingresados es menor a 10, imprimir en pantalla la leyenda \"Alguno de los números es menor a diez\".\n"
   ]
  },
  {
   "cell_type": "code",
   "execution_count": 7,
   "metadata": {},
   "outputs": [
    {
     "name": "stdout",
     "output_type": "stream",
     "text": [
      "todos los valores son mayores a 10\n"
     ]
    }
   ],
   "source": [
    "num1=float(input(\"Ingrese el 1er numero: \"))\n",
    "num2=float(input(\"Ingrese el 2do numero: \"))\n",
    "num3=float(input(\"Ingrese el 3er numero: \"))\n",
    "if num1<10 or num2<10 or num3<10:\n",
    "    print(\"Alguno de los números es menor a diez\")\n",
    "else:\n",
    "    print(\"todos los valores son mayores a 10\")"
   ]
  },
  {
   "cell_type": "markdown",
   "metadata": {},
   "source": [
    "## Ejercicio 29\n",
    "Escribir un programa que pida ingresar la coordenada de un punto en el plano, es decir dos valores\n",
    "enteros x e y (distintos a cero). Posteriormente imprimir en pantalla en que cuadrante se ubica dicho punto. (1º Cuadrante si x > 0 Y y > 0 , 2º Cuadrante: x < 0 Y y > 0, etc.)\n"
   ]
  },
  {
   "cell_type": "code",
   "execution_count": 11,
   "metadata": {},
   "outputs": [
    {
     "name": "stdout",
     "output_type": "stream",
     "text": [
      "3er CUADRANTE\n"
     ]
    }
   ],
   "source": [
    "x=int(input(\"Ingrese el valor de la coordenada x: \"))\n",
    "y=int(input(\"Ingrese el valor de la coordenada y: \"))\n",
    "if x>0 and y>0:\n",
    "    print(\"1er CUADRANTE\")\n",
    "elif (x<0 and y>0):\n",
    "    print(\"2do CUADRANTE\")\n",
    "elif (x<0 and y<0):\n",
    "    print(\"3er CUADRANTE\")\n",
    "else:\n",
    "    print(\"4to CUADRANTE\")\n"
   ]
  },
  {
   "attachments": {},
   "cell_type": "markdown",
   "metadata": {},
   "source": [
    "## Ejercicio 30\n",
    "De un operario se conoce su sueldo y los años de antigüedad. Se pide confeccionar un programa que\n",
    "lea los datos de entrada e informe:\n",
    "    \n",
    "    a.- Si el sueldo es inferior a 500 y su antigüedad es igual o superior a 10 años, otorgarle un aumento del 20 %, mostrar el sueldo a pagar.\n",
    "\n",
    "    b.- Si el sueldo es inferior a 500 pero su antigüedad es menor a 10 años, otorgarle un aumento de 5 %.\n",
    "    \n",
    "    c.- Si el sueldo es mayor o igual a 500 mostrar el sueldo en pantalla sin cambios.\n"
   ]
  },
  {
   "cell_type": "code",
   "execution_count": 13,
   "metadata": {},
   "outputs": [
    {
     "name": "stdout",
     "output_type": "stream",
     "text": [
      "El sueldo a PAGAR:  550.8\n"
     ]
    }
   ],
   "source": [
    "sueldo=float(input(\"ingrese el sueldo; \"))\n",
    "anio=int(input(\"Ingrese los años de antiguedad: \"))\n",
    "if (sueldo<500 and anio>=10):\n",
    "    print(\"El sueldo a PAGAR: \",round(sueldo*1.2,2))\n",
    "elif (sueldo<500 and anio<10):\n",
    "    print(\"El sueldo a PAGAR: \",round(sueldo*1.05,2))\n",
    "else:\n",
    "    print(\"El sueldo a PAGAR: \",round(sueldo,2))\n",
    "    \n",
    "    \n",
    "\n"
   ]
  },
  {
   "cell_type": "markdown",
   "metadata": {},
   "source": [
    "## Ejercicio 31\n",
    "Realizar un programa que imprima en pantalla los números del 1 al 100. (utilizando while)\n"
   ]
  },
  {
   "cell_type": "code",
   "execution_count": 16,
   "metadata": {},
   "outputs": [
    {
     "name": "stdout",
     "output_type": "stream",
     "text": [
      "1\n",
      "2\n",
      "3\n",
      "4\n",
      "5\n",
      "6\n",
      "7\n",
      "8\n",
      "9\n",
      "10\n",
      "11\n",
      "12\n",
      "13\n",
      "14\n",
      "15\n",
      "16\n",
      "17\n",
      "18\n",
      "19\n",
      "20\n",
      "21\n",
      "22\n",
      "23\n",
      "24\n",
      "25\n",
      "26\n",
      "27\n",
      "28\n",
      "29\n",
      "30\n",
      "31\n",
      "32\n",
      "33\n",
      "34\n",
      "35\n",
      "36\n",
      "37\n",
      "38\n",
      "39\n",
      "40\n",
      "41\n",
      "42\n",
      "43\n",
      "44\n",
      "45\n",
      "46\n",
      "47\n",
      "48\n",
      "49\n",
      "50\n",
      "51\n",
      "52\n",
      "53\n",
      "54\n",
      "55\n",
      "56\n",
      "57\n",
      "58\n",
      "59\n",
      "60\n",
      "61\n",
      "62\n",
      "63\n",
      "64\n",
      "65\n",
      "66\n",
      "67\n",
      "68\n",
      "69\n",
      "70\n",
      "71\n",
      "72\n",
      "73\n",
      "74\n",
      "75\n",
      "76\n",
      "77\n",
      "78\n",
      "79\n",
      "80\n",
      "81\n",
      "82\n",
      "83\n",
      "84\n",
      "85\n",
      "86\n",
      "87\n",
      "88\n",
      "89\n",
      "90\n",
      "91\n",
      "92\n",
      "93\n",
      "94\n",
      "95\n",
      "96\n",
      "97\n",
      "98\n",
      "99\n",
      "100\n"
     ]
    }
   ],
   "source": [
    "num=1\n",
    "while num <= 100:\n",
    "    print(num)\n",
    "    num+=1"
   ]
  },
  {
   "cell_type": "markdown",
   "metadata": {},
   "source": [
    "## Ejercicio 32\n",
    "Codificar un programa que solicite la carga de un valor positivo y nos muestre desde 1 hasta el valor ingresado de uno en uno. Ejemplo: Si ingresamos 30 se debe mostrar en pantalla los números del 1 al 30.\n"
   ]
  },
  {
   "cell_type": "code",
   "execution_count": 17,
   "metadata": {},
   "outputs": [
    {
     "name": "stdout",
     "output_type": "stream",
     "text": [
      "1\n",
      "2\n",
      "3\n",
      "4\n",
      "5\n",
      "6\n",
      "7\n",
      "8\n",
      "9\n",
      "10\n",
      "11\n",
      "12\n",
      "13\n",
      "14\n",
      "15\n",
      "16\n",
      "17\n",
      "18\n",
      "19\n",
      "20\n",
      "21\n",
      "22\n",
      "23\n",
      "24\n",
      "25\n",
      "26\n",
      "27\n",
      "28\n",
      "29\n",
      "30\n"
     ]
    }
   ],
   "source": [
    "lim=int(input(\"Ingrese un valor positivo: \"))\n",
    "num=1\n",
    "while num <= lim:\n",
    "    print(num)\n",
    "    num+=1"
   ]
  },
  {
   "attachments": {},
   "cell_type": "markdown",
   "metadata": {},
   "source": [
    "\n",
    "## Ejercicio 33\n",
    "Escribir un programa que solicite ingresar 10 notas de alumnos y nos informe cuántos tienen notas\n",
    "mayores o iguales a 7 y cuántos menores.\n"
   ]
  },
  {
   "cell_type": "code",
   "execution_count": 19,
   "metadata": {},
   "outputs": [
    {
     "name": "stdout",
     "output_type": "stream",
     "text": [
      "Ingrese la nota del alumno N 1 : \n",
      "Ingrese la nota del alumno N 2 : \n",
      "Ingrese la nota del alumno N 3 : \n",
      "Ingrese la nota del alumno N 4 : \n",
      "Ingrese la nota del alumno N 5 : \n",
      "Ingrese la nota del alumno N 6 : \n",
      "Ingrese la nota del alumno N 7 : \n",
      "Ingrese la nota del alumno N 8 : \n",
      "Ingrese la nota del alumno N 9 : \n",
      "Ingrese la nota del alumno N 10 : \n",
      "La cantidad de alumnos con NOTAS MAYORES O IGUALES A 7 SON: 0\n",
      "La cantidad de alumnos con MENORES A 7 SON: 10\n"
     ]
    }
   ],
   "source": [
    "mayores=0\n",
    "for i in range(10):\n",
    "    print(\"Ingrese la nota del alumno N\",i+1,\": \",end=\"\")\n",
    "    nota=float(input(\"\"))\n",
    "    print(\"\")\n",
    "    if nota>=7:\n",
    "        mayores+=1\n",
    "print(\"La cantidad de alumnos con NOTAS MAYORES O IGUALES A 7 SON:\",mayores)\n",
    "print(\"La cantidad de alumnos con MENORES A 7 SON:\",10-mayores)\n"
   ]
  },
  {
   "attachments": {},
   "cell_type": "markdown",
   "metadata": {},
   "source": [
    "## Ejercicio 34\n",
    "Se ingresan un conjunto de n alturas de personas por teclado. Mostrar la altura promedio de las\n",
    "personas.\n"
   ]
  },
  {
   "cell_type": "code",
   "execution_count": 22,
   "metadata": {},
   "outputs": [
    {
     "name": "stdout",
     "output_type": "stream",
     "text": [
      "Ingrese la ALTURA,en metros de la persona N° 1 : \n",
      "Ingrese la ALTURA,en metros de la persona N° 2 : \n",
      "Ingrese la ALTURA,en metros de la persona N° 3 : \n",
      "La ALTURA PROMEDIO ES: 1.24\n"
     ]
    }
   ],
   "source": [
    "personas=int(input(\"ingrese la cantidad de personas: \"))\n",
    "suma=0\n",
    "for i in range(personas):\n",
    "    print(\"Ingrese la ALTURA,en metros de la persona N°\",i+1,\": \",end=\"\")\n",
    "    altura=float(input(\"\"))\n",
    "    suma+=altura\n",
    "    print(\"\")\n",
    "\n",
    "print(\"La ALTURA PROMEDIO ES:\",round(suma/personas,2))\n"
   ]
  },
  {
   "cell_type": "markdown",
   "metadata": {},
   "source": [
    "## Ejercicio 35\n",
    "En una empresa trabajan n empleados cuyos sueldos oscilan entre $100 y $500, realizar un programa\n",
    "que lea los sueldos que cobra cada empleado e informe cuántos empleados cobran entre $100 y $300\n",
    "y cuántos cobran más de $300. Además el programa deberá informar el importe que gasta la empresa\n",
    "en sueldos al personal."
   ]
  }
 ],
 "metadata": {
  "kernelspec": {
   "display_name": "Python 3",
   "language": "python",
   "name": "python3"
  },
  "language_info": {
   "codemirror_mode": {
    "name": "ipython",
    "version": 3
   },
   "file_extension": ".py",
   "mimetype": "text/x-python",
   "name": "python",
   "nbconvert_exporter": "python",
   "pygments_lexer": "ipython3",
   "version": "3.9.6"
  },
  "orig_nbformat": 4
 },
 "nbformat": 4,
 "nbformat_minor": 2
}
